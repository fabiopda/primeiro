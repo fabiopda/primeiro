{
 "cells": [
  {
   "cell_type": "code",
   "execution_count": 1,
   "metadata": {},
   "outputs": [],
   "source": [
    "import pandas as pd\n",
    "from sklearn import tree\n",
    "from sklearn.metrics import accuracy_score\n",
    "from sklearn.svm import SVC\n",
    "from sklearn.model_selection import GridSearchCV\n",
    "from sklearn.model_selection import ShuffleSplit\n",
    "from sklearn.linear_model import LogisticRegression\n",
    "from sklearn.model_selection import KFold\n",
    "from sklearn.model_selection import cross_val_score\n",
    "from sklearn.model_selection import train_test_split\n",
    "from sklearn.ensemble import RandomForestClassifier\n",
    "from sklearn.ensemble import GradientBoostingClassifier\n",
    "from sklearn import preprocessing\n",
    "from sklearn.cluster import KMeans\n",
    "import numpy as np\n",
    "import matplotlib.pyplot as plt\n",
    "\n",
    "from sklearn.naive_bayes import GaussianNB\n"
   ]
  },
  {
   "cell_type": "code",
   "execution_count": null,
   "metadata": {
    "collapsed": true
   },
   "outputs": [],
   "source": []
  },
  {
   "cell_type": "code",
   "execution_count": 2,
   "metadata": {
    "collapsed": true
   },
   "outputs": [],
   "source": [
    "#LEITURA DE DADOS\n",
    "treino = pd.read_csv('C:/Users/BIG DATA/Desktop/Kaggle/credit_train_label.csv')\n",
    "teste = pd.read_csv('C:/Users/BIG DATA/Desktop/Kaggle/credit_test_features.csv')"
   ]
  },
  {
   "cell_type": "code",
   "execution_count": null,
   "metadata": {},
   "outputs": [],
   "source": [
    "treino.shape"
   ]
  },
  {
   "cell_type": "code",
   "execution_count": null,
   "metadata": {},
   "outputs": [],
   "source": [
    "teste.shape"
   ]
  },
  {
   "cell_type": "code",
   "execution_count": null,
   "metadata": {},
   "outputs": [],
   "source": [
    "print(treino.isnull().sum())\n",
    "print(\"===================================================\")\n",
    "print(teste.isnull().sum())"
   ]
  },
  {
   "cell_type": "markdown",
   "metadata": {},
   "source": [
    "#A Better Option: Imputation\n",
    "from sklearn.preprocessing import Imputer\n",
    "from sklearn.pipeline import make_pipeline\n",
    "\n",
    "my_imputer = Imputer()\n",
    "data_with_imputed_values = my_imputer.fit_transform(original_data)\n",
    "#The default behavior fills in the mean value for imputation. Statisticians have researched more complex strategies, but those complex strategies typically give no benefit once you plug the results into sophisticated machine learning models."
   ]
  },
  {
   "cell_type": "code",
   "execution_count": null,
   "metadata": {},
   "outputs": [],
   "source": [
    "treino.describe()"
   ]
  },
  {
   "cell_type": "code",
   "execution_count": null,
   "metadata": {},
   "outputs": [],
   "source": [
    "teste.describe()"
   ]
  },
  {
   "cell_type": "code",
   "execution_count": null,
   "metadata": {
    "collapsed": true
   },
   "outputs": [],
   "source": []
  },
  {
   "cell_type": "code",
   "execution_count": null,
   "metadata": {},
   "outputs": [],
   "source": [
    "treino.head()"
   ]
  },
  {
   "cell_type": "code",
   "execution_count": null,
   "metadata": {},
   "outputs": [],
   "source": [
    "treino['SeriousDlqin2yrs'].sum()"
   ]
  },
  {
   "cell_type": "code",
   "execution_count": 5,
   "metadata": {
    "collapsed": true
   },
   "outputs": [],
   "source": [
    "treino['MonthlyIncome'].fillna(treino['MonthlyIncome'].mean(),inplace=True)\n",
    "teste['MonthlyIncome'].fillna(treino['MonthlyIncome'].mean(),inplace=True)"
   ]
  },
  {
   "cell_type": "code",
   "execution_count": 6,
   "metadata": {
    "collapsed": true
   },
   "outputs": [],
   "source": [
    "treino['NumberOfDependents'].fillna(treino['NumberOfDependents'].mean(),inplace=True)\n",
    "teste['NumberOfDependents'].fillna(treino['NumberOfDependents'].mean(),inplace=True)"
   ]
  },
  {
   "cell_type": "code",
   "execution_count": null,
   "metadata": {
    "collapsed": true
   },
   "outputs": [],
   "source": []
  },
  {
   "cell_type": "code",
   "execution_count": null,
   "metadata": {
    "scrolled": true
   },
   "outputs": [],
   "source": [
    "treino.head(n=100)"
   ]
  },
  {
   "cell_type": "code",
   "execution_count": 7,
   "metadata": {
    "collapsed": true
   },
   "outputs": [],
   "source": [
    "#PREPARO DOS DADOS\n",
    "novo_treino=treino\n",
    "novo_teste=teste"
   ]
  },
  {
   "cell_type": "code",
   "execution_count": null,
   "metadata": {},
   "outputs": [],
   "source": [
    "treino.head()"
   ]
  },
  {
   "cell_type": "code",
   "execution_count": null,
   "metadata": {},
   "outputs": [],
   "source": [
    "novo_treino.shape"
   ]
  },
  {
   "cell_type": "code",
   "execution_count": null,
   "metadata": {},
   "outputs": [],
   "source": [
    "novo_teste.shape"
   ]
  },
  {
   "cell_type": "code",
   "execution_count": null,
   "metadata": {},
   "outputs": [],
   "source": []
  },
  {
   "cell_type": "code",
   "execution_count": null,
   "metadata": {},
   "outputs": [],
   "source": [
    "#Verifica se o evento é raro\n",
    "sum(novo_treino['SeriousDlqin2yrs'])/len(novo_treino)"
   ]
  },
  {
   "cell_type": "code",
   "execution_count": 8,
   "metadata": {
    "collapsed": true
   },
   "outputs": [],
   "source": [
    "X=novo_treino[list(set(novo_treino.columns)-set(['SeriousDlqin2yrs','X']))]\n",
    "y=novo_treino['SeriousDlqin2yrs']"
   ]
  },
  {
   "cell_type": "code",
   "execution_count": null,
   "metadata": {
    "collapsed": true
   },
   "outputs": [],
   "source": []
  },
  {
   "cell_type": "code",
   "execution_count": 9,
   "metadata": {
    "collapsed": true
   },
   "outputs": [],
   "source": [
    "from sklearn import preprocessing\n",
    "X_train, X_test, y_train, y_test = train_test_split(X, y, test_size=0.2, random_state=0)"
   ]
  },
  {
   "cell_type": "code",
   "execution_count": null,
   "metadata": {
    "collapsed": true
   },
   "outputs": [],
   "source": []
  },
  {
   "cell_type": "code",
   "execution_count": 11,
   "metadata": {},
   "outputs": [],
   "source": [
    "seed = 42\n",
    "kfold = KFold(n_splits=100, random_state=seed)\n",
    "RegLog = LogisticRegression()\n",
    "RegLog.fit(X_train,y_train)\n",
    "results = cross_val_score(RegLog, X_train, y_train, cv=kfold)"
   ]
  },
  {
   "cell_type": "code",
   "execution_count": 13,
   "metadata": {},
   "outputs": [
    {
     "name": "stdout",
     "output_type": "stream",
     "text": [
      "AUC: 0.6275\n"
     ]
    }
   ],
   "source": [
    "from sklearn.metrics import roc_auc_score\n",
    "novo_treino2 = novo_treino.drop('X',axis=1).drop('SeriousDlqin2yrs',axis=1)\n",
    "auc_ = roc_auc_score(y, RegLog.predict_proba(novo_treino2)[:,1])\n",
    "print(\"AUC: %.4f\" % auc_)"
   ]
  },
  {
   "cell_type": "code",
   "execution_count": 15,
   "metadata": {},
   "outputs": [],
   "source": [
    "submeter = pd.DataFrame()\n",
    "submeter['X'] = novo_teste['X']\n",
    "novo_teste2 = novo_teste.drop('X',axis=1)\n",
    "submeter['SeriousDlqin2yrs'] = RegLog.predict_proba(novo_teste2)[:,1]\n",
    "submeter.to_csv('submeter_Reg_Log.csv',index=False)"
   ]
  },
  {
   "cell_type": "code",
   "execution_count": null,
   "metadata": {},
   "outputs": [],
   "source": []
  },
  {
   "cell_type": "markdown",
   "metadata": {},
   "source": [
    "Classificacao"
   ]
  },
  {
   "cell_type": "code",
   "execution_count": null,
   "metadata": {
    "collapsed": true
   },
   "outputs": [],
   "source": [
    "cv = ShuffleSplit(n_splits=3, test_size=0.5, random_state=0)"
   ]
  },
  {
   "cell_type": "code",
   "execution_count": 16,
   "metadata": {},
   "outputs": [
    {
     "data": {
      "text/plain": [
       "DecisionTreeClassifier(class_weight=None, criterion='gini', max_depth=None,\n",
       "            max_features=None, max_leaf_nodes=None,\n",
       "            min_impurity_decrease=0.0, min_impurity_split=None,\n",
       "            min_samples_leaf=1, min_samples_split=2,\n",
       "            min_weight_fraction_leaf=0.0, presort=False, random_state=None,\n",
       "            splitter='best')"
      ]
     },
     "execution_count": 16,
     "metadata": {},
     "output_type": "execute_result"
    }
   ],
   "source": [
    "# Arvore de decisão\n",
    "arvore_c1 = tree.DecisionTreeClassifier()\n",
    "arvore_c1.fit(X_train,y_train)\n",
    "#print(\"C1: \",arvore_c1.score(X_test,y_test))\n",
    "#scores = cross_val_score(arvore_c1, X, y, cv=cv)\n",
    "#scores"
   ]
  },
  {
   "cell_type": "code",
   "execution_count": 18,
   "metadata": {},
   "outputs": [
    {
     "name": "stdout",
     "output_type": "stream",
     "text": [
      "AUC: 0.5639\n"
     ]
    }
   ],
   "source": [
    "from sklearn.metrics import roc_auc_score\n",
    "novo_treino2 = novo_treino.drop('X',axis=1).drop('SeriousDlqin2yrs',axis=1)\n",
    "auc_ = roc_auc_score(y, arvore_c1.predict_proba(novo_treino2)[:,1])\n",
    "print(\"AUC: %.4f\" % auc_)"
   ]
  },
  {
   "cell_type": "code",
   "execution_count": null,
   "metadata": {
    "collapsed": true
   },
   "outputs": [],
   "source": []
  },
  {
   "cell_type": "code",
   "execution_count": 40,
   "metadata": {},
   "outputs": [
    {
     "data": {
      "text/plain": [
       "RandomForestClassifier(bootstrap=True, class_weight=None, criterion='gini',\n",
       "            max_depth=None, max_features='auto', max_leaf_nodes=None,\n",
       "            min_impurity_decrease=0.0, min_impurity_split=None,\n",
       "            min_samples_leaf=1, min_samples_split=2,\n",
       "            min_weight_fraction_leaf=0.0, n_estimators=500, n_jobs=5,\n",
       "            oob_score=False, random_state=None, verbose=0,\n",
       "            warm_start=False)"
      ]
     },
     "execution_count": 40,
     "metadata": {},
     "output_type": "execute_result"
    }
   ],
   "source": [
    "#Random Forest\n",
    "model_c1= RandomForestClassifier(n_estimators=500,n_jobs=5, bootstrap=True,)\n",
    "model_c1.fit(X_train, y_train)\n",
    "#scores = cross_val_score(model_c1, X, y, cv=cv)\n",
    "#scores"
   ]
  },
  {
   "cell_type": "code",
   "execution_count": 41,
   "metadata": {},
   "outputs": [
    {
     "name": "stdout",
     "output_type": "stream",
     "text": [
      "AUC: 0.6682\n"
     ]
    }
   ],
   "source": [
    "from sklearn.metrics import roc_auc_score\n",
    "novo_treino2 = novo_treino.drop('X',axis=1).drop('SeriousDlqin2yrs',axis=1)\n",
    "auc_ = roc_auc_score(y, model_c1.predict_proba(novo_treino2)[:,1])\n",
    "print(\"AUC: %.4f\" % auc_)"
   ]
  },
  {
   "cell_type": "code",
   "execution_count": 23,
   "metadata": {
    "collapsed": true
   },
   "outputs": [],
   "source": [
    "submeter = pd.DataFrame()\n",
    "submeter['X'] = novo_teste['X']\n",
    "novo_teste2 = novo_teste.drop('X',axis=1)\n",
    "submeter['SeriousDlqin2yrs'] = model_c1.predict_proba(novo_teste2)[:,1]\n",
    "submeter.to_csv('submeter_RandomF.csv',index=False)"
   ]
  },
  {
   "cell_type": "code",
   "execution_count": null,
   "metadata": {
    "collapsed": true
   },
   "outputs": [],
   "source": []
  },
  {
   "cell_type": "code",
   "execution_count": null,
   "metadata": {},
   "outputs": [],
   "source": [
    "#Gradient Boosting\n",
    "grad_c1 = GradientBoostingClassifier(n_estimators=100, criterion ='mae')\n",
    "grad_c1.fit(X_train, y_train)\n",
    "#scores = cross_val_score(model_c1, X, y, cv=cv)\n",
    "#scores"
   ]
  },
  {
   "cell_type": "code",
   "execution_count": null,
   "metadata": {
    "collapsed": true
   },
   "outputs": [],
   "source": [
    "from sklearn.metrics import roc_auc_score\n",
    "novo_treino2 = novo_treino.drop('X',axis=1).drop('SeriousDlqin2yrs',axis=1)\n",
    "auc_ = roc_auc_score(y, grad_c1.predict_proba(novo_treino2)[:,1])\n",
    "print(\"AUC: %.4f\" % auc_)"
   ]
  },
  {
   "cell_type": "code",
   "execution_count": null,
   "metadata": {
    "collapsed": true
   },
   "outputs": [],
   "source": []
  },
  {
   "cell_type": "code",
   "execution_count": null,
   "metadata": {
    "collapsed": true
   },
   "outputs": [],
   "source": [
    "#GaussianNB\n",
    "gnb = GaussianNB()\n",
    "y_pred = gnb.fit(X_train_c1, y_train_c1).predict(X_train_c1)"
   ]
  },
  {
   "cell_type": "code",
   "execution_count": null,
   "metadata": {
    "collapsed": true
   },
   "outputs": [],
   "source": []
  },
  {
   "cell_type": "markdown",
   "metadata": {},
   "source": [
    "Regressao"
   ]
  },
  {
   "cell_type": "code",
   "execution_count": null,
   "metadata": {
    "collapsed": true
   },
   "outputs": [],
   "source": [
    "# Arvore de decisão\n",
    "arvore_c1 = tree.DecisionTreeRegressor(max_depth =3)\n",
    "arvore_c1.fit(X,y)\n",
    "\n",
    "print(\"C1: \",arvore_c1.score(X,y))\n",
    "scores = cross_val_score(arvore_c1, X, y, cv=cv)\n",
    "scores"
   ]
  },
  {
   "cell_type": "code",
   "execution_count": null,
   "metadata": {},
   "outputs": [],
   "source": [
    "# SVM\n",
    "parameters = {'kernel':('linear', 'rbf'), 'C':[1, 100]}\n",
    "svc_c1 = SVC()\n",
    "clf_c1 = GridSearchCV(svc_c1, parameters)\n",
    "clf_c1.fit(X_train_c1, y_train_c1)\n",
    "print(\"C1: \",clf_c1.score(X_test_c1,y_test_c1))\n",
    "scores = cross_val_score(clf_c1, X, y, cv=cv)\n",
    "scores"
   ]
  },
  {
   "cell_type": "code",
   "execution_count": null,
   "metadata": {
    "collapsed": true
   },
   "outputs": [],
   "source": []
  },
  {
   "cell_type": "code",
   "execution_count": null,
   "metadata": {},
   "outputs": [],
   "source": [
    "from sklearn import linear_model\n",
    "LogReg1 = linear_model.LogisticRegression()\n",
    "LogReg1.fit(X_train_c1, y_train_c1)\n",
    "\n",
    "#y_pred1 = LogReg1.predict(X_test_c1)\n",
    "#y_pred2 = LogReg2.predict(X_test_c2)\n",
    "#y_pred3 = LogReg3.predict(X_test_c3)\n",
    "\n",
    "#from sklearn.metrics import classification_report\n",
    "#print(classification_report(y_test_c1, y_pred1))\n",
    "#print(classification_report(y_test_c2, y_pred2))\n",
    "#print(classification_report(y_test_c3, y_pred3))\n",
    "\n",
    "print(\"C1: \",LogReg1.score(X_test_c1, y_test_c1))"
   ]
  },
  {
   "cell_type": "code",
   "execution_count": null,
   "metadata": {
    "collapsed": true
   },
   "outputs": [],
   "source": []
  },
  {
   "cell_type": "code",
   "execution_count": null,
   "metadata": {
    "collapsed": true
   },
   "outputs": [],
   "source": [
    "cv = ShuffleSplit(n_splits=3, test_size=0.5, random_state=0)\n",
    "\n",
    "scores_1 = cross_val_score(clf_c1, X_c1, y_c1, cv=cv)\n",
    "scores_2 = cross_val_score(arvore_c1, X_c1, y_c1, cv=cv)\n",
    "scores_3 = cross_val_score(model_c1, X_c1, y_c1, cv=cv)\n",
    "#scores_4 = cross_val_score(grad_c1, X_c1, y_c1, cv=cv)\n",
    "scores_5 = cross_val_score(LogReg1, X_c1, y_c1, cv=cv)\n",
    "\n",
    "scores1_1=scores_1.sum()\n",
    "scores2_1=scores_2.sum()\n",
    "scores3_1=scores_3.sum()\n",
    "#scores4_1=scores_4.sum()\n",
    "scores5_1=scores_5.sum()\n",
    "\n",
    "scores1_m1=scores_1.min()\n",
    "scores2_m1=scores_2.min()\n",
    "scores3_m1=scores_3.min()\n",
    "#scores4_m1=scores_4.min()\n",
    "scores5_m1=scores_5.min()"
   ]
  },
  {
   "cell_type": "code",
   "execution_count": null,
   "metadata": {
    "collapsed": true
   },
   "outputs": [],
   "source": []
  },
  {
   "cell_type": "code",
   "execution_count": null,
   "metadata": {
    "collapsed": true
   },
   "outputs": [],
   "source": [
    "from sklearn.metrics import roc_auc_score\n",
    "auc_ = roc_auc_score(y_test, probs[:,1])\n",
    "print(\"AUC: %.4f\" % auc_)"
   ]
  },
  {
   "cell_type": "code",
   "execution_count": null,
   "metadata": {
    "collapsed": true
   },
   "outputs": [],
   "source": []
  },
  {
   "cell_type": "code",
   "execution_count": null,
   "metadata": {
    "collapsed": true
   },
   "outputs": [],
   "source": [
    "print(\"SCORE C1 CLF = \",scores1_1,' Minimo = ',  scores1_m1)\n",
    "print(\"SCORE C1 arvore = \",scores2_1,' Minimo = ',  scores2_m1)\n",
    "print(\"SCORE C1 model = \",scores3_1,' Minimo = ',  scores3_m1)\n",
    "print(\"SCORE C1 grad = \",scores4_1,' Minimo = ', scores4_m1)"
   ]
  },
  {
   "cell_type": "code",
   "execution_count": null,
   "metadata": {
    "collapsed": true
   },
   "outputs": [],
   "source": []
  },
  {
   "cell_type": "code",
   "execution_count": null,
   "metadata": {
    "collapsed": true
   },
   "outputs": [],
   "source": [
    "#prepara para a saida\n",
    "submeter_c1 = pd.DataFrame()\n",
    "submeter_c2 = pd.DataFrame()\n",
    "submeter_c3 = pd.DataFrame()\n",
    "\n",
    "submeter_c1['PassengerId']=teste_c1['PassengerId']\n",
    "teste_c12=teste_c1.drop('PassengerId',axis=1)\n",
    "submeter_c1['Survived'] = model_c1.predict(teste_c12)\n",
    "\n",
    "submeter_1=submeter_c1.append(submeter_c2)\n",
    "submeter=submeter_1.append(submeter_c3)\n",
    "submeter.to_csv('submeter_5.csv',index=False)"
   ]
  },
  {
   "cell_type": "code",
   "execution_count": null,
   "metadata": {
    "collapsed": true
   },
   "outputs": [],
   "source": [
    "#submeter2 = submeter.sort('PassengerId')\n",
    "#submeter2 = submeter.sort(['PassengerId'], ascending=[1])"
   ]
  },
  {
   "cell_type": "code",
   "execution_count": null,
   "metadata": {
    "collapsed": true
   },
   "outputs": [],
   "source": []
  },
  {
   "cell_type": "code",
   "execution_count": null,
   "metadata": {
    "collapsed": true
   },
   "outputs": [],
   "source": [
    "from sklearn.neighbors import NearestNeighbors\n",
    "import numpy as np\n",
    "\n",
    "nbrs = NearestNeighbors(n_neighbors=3, algorithm='ball_tree').fit(novo_treino)\n",
    "distances, indices = nbrs.kneighbors(X)\n",
    "indices  "
   ]
  }
 ],
 "metadata": {
  "kernelspec": {
   "display_name": "Python 3",
   "language": "python",
   "name": "python3"
  },
  "language_info": {
   "codemirror_mode": {
    "name": "ipython",
    "version": 3
   },
   "file_extension": ".py",
   "mimetype": "text/x-python",
   "name": "python",
   "nbconvert_exporter": "python",
   "pygments_lexer": "ipython3",
   "version": "3.6.3"
  }
 },
 "nbformat": 4,
 "nbformat_minor": 2
}
