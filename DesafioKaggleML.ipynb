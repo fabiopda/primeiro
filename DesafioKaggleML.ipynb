{
 "cells": [
  {
   "cell_type": "code",
   "execution_count": 1,
   "metadata": {},
   "outputs": [],
   "source": [
    "import pandas as pd\n",
    "import numpy as np\n",
    "import sklearn as ska"
   ]
  },
  {
   "cell_type": "code",
   "execution_count": 2,
   "metadata": {},
   "outputs": [],
   "source": [
    "#importando a base para o dataframe, com separador por \";\"\n",
    "df = pd.read_csv(\"credit_train_label.csv\", sep=';', low_memory=False)"
   ]
  },
  {
   "cell_type": "code",
   "execution_count": 3,
   "metadata": {},
   "outputs": [
    {
     "data": {
      "text/plain": [
       "(50000, 13)"
      ]
     },
     "execution_count": 3,
     "metadata": {},
     "output_type": "execute_result"
    }
   ],
   "source": [
    "#quantidade de linhas e coluna do dataframe\n",
    "df.shape"
   ]
  },
  {
   "cell_type": "code",
   "execution_count": 4,
   "metadata": {},
   "outputs": [
    {
     "data": {
      "text/html": [
       "<div>\n",
       "<style scoped>\n",
       "    .dataframe tbody tr th:only-of-type {\n",
       "        vertical-align: middle;\n",
       "    }\n",
       "\n",
       "    .dataframe tbody tr th {\n",
       "        vertical-align: top;\n",
       "    }\n",
       "\n",
       "    .dataframe thead th {\n",
       "        text-align: right;\n",
       "    }\n",
       "</style>\n",
       "<table border=\"1\" class=\"dataframe\">\n",
       "  <thead>\n",
       "    <tr style=\"text-align: right;\">\n",
       "      <th></th>\n",
       "      <th>X</th>\n",
       "      <th>RevolvingUtilizationOfUnsecuredLines</th>\n",
       "      <th>age</th>\n",
       "      <th>NumberOfTime30.59DaysPastDueNotWorse</th>\n",
       "      <th>DebtRatio</th>\n",
       "      <th>MonthlyIncome</th>\n",
       "      <th>NumberOfOpenCreditLinesAndLoans</th>\n",
       "      <th>NumberOfTimes90DaysLate</th>\n",
       "      <th>NumberRealEstateLoansOrLines</th>\n",
       "      <th>NumberOfTime60.89DaysPastDueNotWorse</th>\n",
       "      <th>NumberOfDependents</th>\n",
       "      <th>Gasto com dependente</th>\n",
       "      <th>SeriousDlqin2yrs</th>\n",
       "    </tr>\n",
       "  </thead>\n",
       "  <tbody>\n",
       "    <tr>\n",
       "      <th>0</th>\n",
       "      <td>1</td>\n",
       "      <td>0.766127</td>\n",
       "      <td>45</td>\n",
       "      <td>2</td>\n",
       "      <td>0.802982</td>\n",
       "      <td>9120</td>\n",
       "      <td>13</td>\n",
       "      <td>0</td>\n",
       "      <td>6</td>\n",
       "      <td>0</td>\n",
       "      <td>2</td>\n",
       "      <td>4560</td>\n",
       "      <td>1</td>\n",
       "    </tr>\n",
       "    <tr>\n",
       "      <th>1</th>\n",
       "      <td>2</td>\n",
       "      <td>0.957151</td>\n",
       "      <td>40</td>\n",
       "      <td>0</td>\n",
       "      <td>0.121876</td>\n",
       "      <td>2600</td>\n",
       "      <td>4</td>\n",
       "      <td>0</td>\n",
       "      <td>0</td>\n",
       "      <td>0</td>\n",
       "      <td>1</td>\n",
       "      <td>2600</td>\n",
       "      <td>0</td>\n",
       "    </tr>\n",
       "    <tr>\n",
       "      <th>2</th>\n",
       "      <td>3</td>\n",
       "      <td>0.658180</td>\n",
       "      <td>38</td>\n",
       "      <td>1</td>\n",
       "      <td>0.085113</td>\n",
       "      <td>3042</td>\n",
       "      <td>2</td>\n",
       "      <td>1</td>\n",
       "      <td>0</td>\n",
       "      <td>0</td>\n",
       "      <td>0</td>\n",
       "      <td>3042</td>\n",
       "      <td>0</td>\n",
       "    </tr>\n",
       "    <tr>\n",
       "      <th>3</th>\n",
       "      <td>4</td>\n",
       "      <td>0.233810</td>\n",
       "      <td>30</td>\n",
       "      <td>0</td>\n",
       "      <td>0.036050</td>\n",
       "      <td>3300</td>\n",
       "      <td>5</td>\n",
       "      <td>0</td>\n",
       "      <td>0</td>\n",
       "      <td>0</td>\n",
       "      <td>0</td>\n",
       "      <td>3300</td>\n",
       "      <td>0</td>\n",
       "    </tr>\n",
       "    <tr>\n",
       "      <th>4</th>\n",
       "      <td>5</td>\n",
       "      <td>0.907239</td>\n",
       "      <td>49</td>\n",
       "      <td>1</td>\n",
       "      <td>0.024926</td>\n",
       "      <td>63588</td>\n",
       "      <td>7</td>\n",
       "      <td>0</td>\n",
       "      <td>1</td>\n",
       "      <td>0</td>\n",
       "      <td>0</td>\n",
       "      <td>63588</td>\n",
       "      <td>0</td>\n",
       "    </tr>\n",
       "  </tbody>\n",
       "</table>\n",
       "</div>"
      ],
      "text/plain": [
       "   X  RevolvingUtilizationOfUnsecuredLines  age  \\\n",
       "0  1                              0.766127   45   \n",
       "1  2                              0.957151   40   \n",
       "2  3                              0.658180   38   \n",
       "3  4                              0.233810   30   \n",
       "4  5                              0.907239   49   \n",
       "\n",
       "   NumberOfTime30.59DaysPastDueNotWorse  DebtRatio  MonthlyIncome  \\\n",
       "0                                     2   0.802982           9120   \n",
       "1                                     0   0.121876           2600   \n",
       "2                                     1   0.085113           3042   \n",
       "3                                     0   0.036050           3300   \n",
       "4                                     1   0.024926          63588   \n",
       "\n",
       "   NumberOfOpenCreditLinesAndLoans  NumberOfTimes90DaysLate  \\\n",
       "0                               13                        0   \n",
       "1                                4                        0   \n",
       "2                                2                        1   \n",
       "3                                5                        0   \n",
       "4                                7                        0   \n",
       "\n",
       "   NumberRealEstateLoansOrLines  NumberOfTime60.89DaysPastDueNotWorse  \\\n",
       "0                             6                                     0   \n",
       "1                             0                                     0   \n",
       "2                             0                                     0   \n",
       "3                             0                                     0   \n",
       "4                             1                                     0   \n",
       "\n",
       "   NumberOfDependents Gasto com dependente  SeriousDlqin2yrs  \n",
       "0                   2                 4560                 1  \n",
       "1                   1                 2600                 0  \n",
       "2                   0                 3042                 0  \n",
       "3                   0                 3300                 0  \n",
       "4                   0                63588                 0  "
      ]
     },
     "execution_count": 4,
     "metadata": {},
     "output_type": "execute_result"
    }
   ],
   "source": [
    "#cabeçalho do dataframe\n",
    "df.head()"
   ]
  },
  {
   "cell_type": "code",
   "execution_count": 5,
   "metadata": {},
   "outputs": [],
   "source": [
    "#importando biblioteca que divide a base em treino e teste\n",
    "from sklearn.model_selection import train_test_split"
   ]
  },
  {
   "cell_type": "code",
   "execution_count": 6,
   "metadata": {},
   "outputs": [],
   "source": [
    "#definindo as colunas X e a variável target Y\n",
    "X = df.iloc[:,0:11]\n",
    "y = df.iloc[:,12]\n",
    "#dividindo a base em treino e teste. Treino 70% e teste 30%\n",
    "X_train, X_test, y_train, y_test = train_test_split(X, y, test_size=0.3, random_state=42)"
   ]
  },
  {
   "cell_type": "code",
   "execution_count": 7,
   "metadata": {},
   "outputs": [
    {
     "name": "stdout",
     "output_type": "stream",
     "text": [
      "(35000, 11)\n",
      "(15000, 11)\n"
     ]
    }
   ],
   "source": [
    "#analisando a divisão das bases\n",
    "print (X_train.shape)\n",
    "print (X_test.shape)"
   ]
  },
  {
   "cell_type": "code",
   "execution_count": 8,
   "metadata": {},
   "outputs": [],
   "source": [
    "#importando bibliotecas para fazer o RandonForest, probabilidade e o GridSerchCV\n",
    "from sklearn.ensemble import RandomForestClassifier\n",
    "from sklearn.metrics import roc_auc_score\n",
    "from sklearn.model_selection import GridSearchCV"
   ]
  },
  {
   "cell_type": "code",
   "execution_count": 18,
   "metadata": {},
   "outputs": [
    {
     "name": "stdout",
     "output_type": "stream",
     "text": [
      "AUC: 0.8475\n"
     ]
    }
   ],
   "source": [
    "#fazendo um chute inicial com 100 árvores, profundidade 7 e utilizando 5 variáveis\n",
    "rf = RandomForestClassifier(n_estimators=200, max_depth=5, max_features=9)\n",
    "#aplicando o modelo\n",
    "rf.fit(X_train, y_train)\n",
    "#dando predict na base de teste e atribuindo a predictions\n",
    "predictions = rf.predict(X_test)\n",
    "#calculando a probablilidade\n",
    "auc = roc_auc_score(y_test, rf.predict_proba(X_test)[:,1])\n",
    "#imprimindo a probabilidade\n",
    "print(\"AUC: %.4f\" % auc)"
   ]
  },
  {
   "cell_type": "code",
   "execution_count": 10,
   "metadata": {},
   "outputs": [],
   "source": [
    "#carregando novo dataframe onde irei aplicar o modelo gerado\n",
    "newdf = pd.read_csv(\"credit_test_features.csv\", sep=\";\")"
   ]
  },
  {
   "cell_type": "code",
   "execution_count": 11,
   "metadata": {},
   "outputs": [
    {
     "data": {
      "text/plain": [
       "(100000, 11)"
      ]
     },
     "execution_count": 11,
     "metadata": {},
     "output_type": "execute_result"
    }
   ],
   "source": [
    "#quantidade de linhas e coluna do novo dataframe\n",
    "newdf.shape"
   ]
  },
  {
   "cell_type": "code",
   "execution_count": 12,
   "metadata": {},
   "outputs": [],
   "source": [
    "#dando predict na nova base e atribuindo a predictions\n",
    "predictions = rf.predict(newdf)"
   ]
  },
  {
   "cell_type": "code",
   "execution_count": 13,
   "metadata": {},
   "outputs": [],
   "source": [
    "#calculando a probabilidade da nova base\n",
    "probabilidade = rf.predict_proba(newdf)"
   ]
  },
  {
   "cell_type": "code",
   "execution_count": 14,
   "metadata": {},
   "outputs": [],
   "source": [
    "#criando uma coluna no dataframe da novabase e acrescentando a probabilidade de dar 1\n",
    "newdf[\"pred\"] = probabilidade[:,1]"
   ]
  },
  {
   "cell_type": "code",
   "execution_count": 15,
   "metadata": {},
   "outputs": [],
   "source": [
    "#Salvando novo dataframe em csv separado por \",\" e com cabeçalho\n",
    "newdf.to_csv('novabase.csv', sep=',', header=True)"
   ]
  },
  {
   "cell_type": "code",
   "execution_count": 16,
   "metadata": {},
   "outputs": [
    {
     "data": {
      "text/plain": [
       "GridSearchCV(cv=3, error_score='raise',\n",
       "       estimator=RandomForestClassifier(bootstrap=True, class_weight=None, criterion='gini',\n",
       "            max_depth=None, max_features='auto', max_leaf_nodes=None,\n",
       "            min_impurity_decrease=0.0, min_impurity_split=None,\n",
       "            min_samples_leaf=1, min_samples_split=2,\n",
       "            min_weight_fraction_leaf=0.0, n_estimators=10, n_jobs=1,\n",
       "            oob_score=False, random_state=None, verbose=0,\n",
       "            warm_start=False),\n",
       "       fit_params=None, iid=True, n_jobs=1,\n",
       "       param_grid=[{'n_estimators': [100, 200], 'max_depth': [1, 3, 5, 7], 'max_features': [5, 7, 11]}],\n",
       "       pre_dispatch='2*n_jobs', refit=True, return_train_score='warn',\n",
       "       scoring='accuracy', verbose=0)"
      ]
     },
     "execution_count": 16,
     "metadata": {},
     "output_type": "execute_result"
    }
   ],
   "source": [
    "#Tunando o modelo alterando a quantidade de árvores(n_estimators), profundidade(max_depht) e a quantidade de variáveis (max_features)\n",
    "#Pode demorar um pouco de acordo com a quantidade de hiperparamentros escolhidos\n",
    "tuned_parameters = [{'n_estimators': [100,200],\n",
    "                     'max_depth': [1,3,5,7],\n",
    "                     'max_features': [5,7,11]}]\n",
    "\n",
    "clf = GridSearchCV(RandomForestClassifier(), tuned_parameters, cv=3, scoring='accuracy')\n",
    "#gerando modelo tunado com os melhores hiperparâmetros\n",
    "clf.fit(X_train, y_train)"
   ]
  },
  {
   "cell_type": "code",
   "execution_count": 17,
   "metadata": {},
   "outputs": [
    {
     "name": "stdout",
     "output_type": "stream",
     "text": [
      "Best parameters set found on development set:\n",
      "\n",
      "{'max_depth': 7, 'max_features': 5, 'n_estimators': 100}\n",
      "\n",
      "Grid scores on development set:\n",
      "\n",
      "0.933 (+/-0.000) for {'max_depth': 1, 'max_features': 5, 'n_estimators': 100}\n",
      "0.933 (+/-0.000) for {'max_depth': 1, 'max_features': 5, 'n_estimators': 200}\n",
      "0.933 (+/-0.000) for {'max_depth': 1, 'max_features': 7, 'n_estimators': 100}\n",
      "0.933 (+/-0.000) for {'max_depth': 1, 'max_features': 7, 'n_estimators': 200}\n",
      "0.933 (+/-0.000) for {'max_depth': 1, 'max_features': 11, 'n_estimators': 100}\n",
      "0.933 (+/-0.000) for {'max_depth': 1, 'max_features': 11, 'n_estimators': 200}\n",
      "0.934 (+/-0.001) for {'max_depth': 3, 'max_features': 5, 'n_estimators': 100}\n",
      "0.935 (+/-0.001) for {'max_depth': 3, 'max_features': 5, 'n_estimators': 200}\n",
      "0.935 (+/-0.000) for {'max_depth': 3, 'max_features': 7, 'n_estimators': 100}\n",
      "0.935 (+/-0.001) for {'max_depth': 3, 'max_features': 7, 'n_estimators': 200}\n",
      "0.935 (+/-0.001) for {'max_depth': 3, 'max_features': 11, 'n_estimators': 100}\n",
      "0.935 (+/-0.001) for {'max_depth': 3, 'max_features': 11, 'n_estimators': 200}\n",
      "0.935 (+/-0.000) for {'max_depth': 5, 'max_features': 5, 'n_estimators': 100}\n",
      "0.935 (+/-0.000) for {'max_depth': 5, 'max_features': 5, 'n_estimators': 200}\n",
      "0.935 (+/-0.000) for {'max_depth': 5, 'max_features': 7, 'n_estimators': 100}\n",
      "0.935 (+/-0.000) for {'max_depth': 5, 'max_features': 7, 'n_estimators': 200}\n",
      "0.935 (+/-0.000) for {'max_depth': 5, 'max_features': 11, 'n_estimators': 100}\n",
      "0.935 (+/-0.001) for {'max_depth': 5, 'max_features': 11, 'n_estimators': 200}\n",
      "0.936 (+/-0.001) for {'max_depth': 7, 'max_features': 5, 'n_estimators': 100}\n",
      "0.935 (+/-0.000) for {'max_depth': 7, 'max_features': 5, 'n_estimators': 200}\n",
      "0.935 (+/-0.001) for {'max_depth': 7, 'max_features': 7, 'n_estimators': 100}\n",
      "0.935 (+/-0.001) for {'max_depth': 7, 'max_features': 7, 'n_estimators': 200}\n",
      "0.935 (+/-0.001) for {'max_depth': 7, 'max_features': 11, 'n_estimators': 100}\n",
      "0.934 (+/-0.001) for {'max_depth': 7, 'max_features': 11, 'n_estimators': 200}\n",
      "\n",
      "Detailed classification report:\n",
      "\n",
      "The model is trained on the full development set.\n",
      "The scores are computed on the full evaluation set.\n",
      "\n",
      "Probabilidade: 0.8516\n",
      "\n"
     ]
    }
   ],
   "source": [
    "# imprindo descritivo do tunning com os melhores hiperparametros\n",
    "print(\"Best parameters set found on development set:\")\n",
    "print()\n",
    "print(clf.best_params_)\n",
    "print()\n",
    "print(\"Grid scores on development set:\")\n",
    "print()\n",
    "means = clf.cv_results_['mean_test_score']\n",
    "stds = clf.cv_results_['std_test_score']\n",
    "for mean, std, params in zip(means, stds, clf.cv_results_['params']):\n",
    "    print(\"%0.3f (+/-%0.03f) for %r\"\n",
    "        % (mean, std * 2, params))\n",
    "print()\n",
    "\n",
    "print(\"Detailed classification report:\")\n",
    "print()\n",
    "print(\"The model is trained on the full development set.\")\n",
    "print(\"The scores are computed on the full evaluation set.\")\n",
    "print()\n",
    "from sklearn.metrics import accuracy_score\n",
    "auc = roc_auc_score(y_test, clf.predict_proba(X_test)[:,1])\n",
    "print(\"Probabilidade: %.4f\" % auc)\n",
    "print()"
   ]
  },
  {
   "cell_type": "code",
   "execution_count": 20,
   "metadata": {},
   "outputs": [],
   "source": [
    "#carregando novo dataframe onde irei aplicar o modelo gerado\n",
    "newdf = pd.read_csv(\"credit_test_features.csv\", sep=\";\")"
   ]
  },
  {
   "cell_type": "code",
   "execution_count": 21,
   "metadata": {},
   "outputs": [],
   "source": [
    "#dando o predict do modelo tunado na nova base e atribuindo a predictions\n",
    "predictions = clf.predict(newdf)"
   ]
  },
  {
   "cell_type": "code",
   "execution_count": 22,
   "metadata": {},
   "outputs": [],
   "source": [
    "#calculando a probabilidade com o modelo tunado\n",
    "probabilidade = clf.predict_proba(newdf)"
   ]
  },
  {
   "cell_type": "code",
   "execution_count": 23,
   "metadata": {},
   "outputs": [],
   "source": [
    "#criando uma coluna no dataframe da novabase e acrescentando a probabilidade de dar 1\n",
    "newdf[\"pred\"] = probabilidade[:,1]"
   ]
  },
  {
   "cell_type": "code",
   "execution_count": 24,
   "metadata": {},
   "outputs": [],
   "source": [
    "#Salvando novo dataframe em csv separado por \",\" e com cabeçalho\n",
    "newdf.to_csv('novabasetunada.csv', sep=',', header=True)"
   ]
  },
  {
   "cell_type": "code",
   "execution_count": null,
   "metadata": {},
   "outputs": [],
   "source": []
  }
 ],
 "metadata": {
  "kernelspec": {
   "display_name": "Python 3",
   "language": "python",
   "name": "python3"
  },
  "language_info": {
   "codemirror_mode": {
    "name": "ipython",
    "version": 3
   },
   "file_extension": ".py",
   "mimetype": "text/x-python",
   "name": "python",
   "nbconvert_exporter": "python",
   "pygments_lexer": "ipython3",
   "version": "3.6.3"
  }
 },
 "nbformat": 4,
 "nbformat_minor": 2
}
